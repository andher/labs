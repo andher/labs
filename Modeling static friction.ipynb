{
 "cells": [
  {
   "cell_type": "markdown",
   "metadata": {},
   "source": [
    "Andres Heredia, Esteban Martinez "
   ]
  },
  {
   "cell_type": "markdown",
   "metadata": {},
   "source": [
    "# Introduction\n",
    "\n",
    "Our experiment will help us model the relation between mass and static friction. We will see what is the maximum force that can be applied to an object before it moves on a flat surface and on an incline."
   ]
  },
  {
   "cell_type": "markdown",
   "metadata": {
    "collapsed": true
   },
   "source": [
    "# Procedure\n",
    "\n",
    "In order to measure the static friction we hooked a spring scale to a box where we put weights. Then we hooked the scale up to the box and made sure that our scale was set to zero, after which we put varying weights in the box. Finally we pulled on the scale until the box moved and wrote down our findings. For the incline we lifted our surface to a 3° angle and measured the static friction again with the same tools as last time, after which we can formulate a model from our data. \n"
   ]
  },
  {
   "cell_type": "markdown",
   "metadata": {
    "collapsed": true
   },
   "source": [
    "$$Flat$$ $$surface$$\n",
    "\n",
    "| mass (g) \t| Force (N)\t|\n",
    "|-----\t|---\t|\n",
    "| 100 \t| .25  \t|\n",
    "| 200 \t|   .70\t|\n",
    "| 300 \t|   1.0\t|\n",
    "| 400 \t| 1.35|\n",
    "| 500 \t| 1.7\t|\n",
    "\n",
    "$$On$$  $$incline$$\n",
    "\n",
    "| mass (g) \t| Force (N)\t|\n",
    "|-----\t|---\t|\n",
    "| 100 \t| .75  \t|\n",
    "| 200 \t|   .95\t|\n",
    "| 300 \t|   1.3\t|\n",
    "| 400 \t| 1.9|\n",
    "| 500 \t| 2.2\t|\n",
    "\n",
    "\n",
    "\n",
    "\n"
   ]
  },
  {
   "cell_type": "code",
   "execution_count": 3,
   "metadata": {
    "collapsed": true
   },
   "outputs": [],
   "source": [
    "%matplotlib inline"
   ]
  },
  {
   "cell_type": "markdown",
   "metadata": {
    "collapsed": true
   },
   "source": [
    "# Data Analysis"
   ]
  },
  {
   "cell_type": "code",
   "execution_count": 4,
   "metadata": {
    "collapsed": false
   },
   "outputs": [
    {
     "name": "stdout",
     "output_type": "stream",
     "text": [
      "0.00354999999783 -0.0650000000023\n"
     ]
    },
    {
     "data": {
      "text/plain": [
       "[<matplotlib.lines.Line2D at 0x45a66a0>]"
      ]
     },
     "execution_count": 4,
     "metadata": {},
     "output_type": "execute_result"
    },
    {
     "data": {
      "image/png": "[encoded data removed]",
      "text/plain": [
       "<matplotlib.figure.Figure at 0x45a9c88>"
      ]
     },
     "metadata": {},
     "output_type": "display_data"
    }
   ],
   "source": [
    "import matplotlib.pyplot as plt\n",
    "import numpy as np\n",
    "from scipy.optimize import curve_fit\n",
    "\n",
    "mass = [ 100, 200, 300, 400, 500]\n",
    "force = [ .25, .7, 1.0, 1.35, 1.7]\n",
    "\n",
    "xx = np.linspace(0,600,10)\n",
    "\n",
    "def lin_model( x, a, b):\n",
    "    return a*x + b\n",
    "a,b = curve_fit(lin_model, mass, force)[0]\n",
    "print(a,b)\n",
    "plt.title('Relationship between Static Friction and Mass on a Flat Surface')\n",
    "plt.ylabel ('Force (N)')\n",
    "plt.xlabel ('Mass (g)')\n",
    "plt.plot(xx, lin_model(xx, a, b))\n",
    "plt.plot(mass,force,'go')"
   ]
  },
  {
   "cell_type": "code",
   "execution_count": 5,
   "metadata": {
    "collapsed": false
   },
   "outputs": [
    {
     "name": "stdout",
     "output_type": "stream",
     "text": [
      "0.00385000000478 0.264999998453\n"
     ]
    },
    {
     "data": {
      "text/plain": [
       "[<matplotlib.lines.Line2D at 0x7b0d400>]"
      ]
     },
     "execution_count": 5,
     "metadata": {},
     "output_type": "execute_result"
    },
    {
     "data": {
      "image/png": "[encoded data removed]",
      "text/plain": [
       "<matplotlib.figure.Figure at 0x7b178d0>"
      ]
     },
     "metadata": {},
     "output_type": "display_data"
    }
   ],
   "source": [
    "import matplotlib.pyplot as plt\n",
    "import numpy as np\n",
    "from scipy.optimize import curve_fit\n",
    "\n",
    "mass = [100, 200, 300, 400, 500]\n",
    "force = [.75, .95, 1.3, 1.9, 2.2]\n",
    "\n",
    "xx = np.linspace(0,600,10)\n",
    "\n",
    "def lin_model( x, a, b):\n",
    "    return a*x + b\n",
    "a,b = curve_fit(lin_model, mass, force)[0]\n",
    "print(a,b)\n",
    "plt.title('Relationship between Static Friction and Mass on an Incline')\n",
    "plt.ylabel ('Force (N)')\n",
    "plt.xlabel ('Mass (g)')\n",
    "plt.plot(xx, lin_model(xx, a, b))\n",
    "plt.plot(mass,force,'go')"
   ]
  },
  {
   "cell_type": "markdown",
   "metadata": {
    "collapsed": true
   },
   "source": [
    "# Conclusion"
   ]
  },
  {
   "cell_type": "markdown",
   "metadata": {},
   "source": [
    "The model that describes the relationship betweem mass and Static data for a flat surface is\n",
    "$$ 0.00355x - 0.06500 $$\n",
    "The model that describes the relationship betweem mass and Static data for an incline is\n",
    "$$ 0.00385x + 0.26500 $$"
   ]
  },
  {
   "cell_type": "code",
   "execution_count": null,
   "metadata": {
    "collapsed": true
   },
   "outputs": [],
   "source": []
  }
 ],
 "metadata": {
  "kernelspec": {
   "display_name": "Python 3",
   "language": "python",
   "name": "python3"
  },
  "language_info": {
   "codemirror_mode": {
    "name": "ipython",
    "version": 3
   },
   "file_extension": ".py",
   "mimetype": "text/x-python",
   "name": "python",
   "nbconvert_exporter": "python",
   "pygments_lexer": "ipython3",
   "version": "3.4.4"
  }
 },
 "nbformat": 4,
 "nbformat_minor": 0
}
