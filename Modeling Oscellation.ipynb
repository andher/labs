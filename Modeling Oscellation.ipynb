{
 "cells": [
  {
   "cell_type": "markdown",
   "metadata": {},
   "source": [
    "Esteban Martinez, Andres Heredia "
   ]
  },
  {
   "cell_type": "markdown",
   "metadata": {},
   "source": [
    "## Introduction"
   ]
  },
  {
   "cell_type": "markdown",
   "metadata": {},
   "source": [
    "The purpose of this lab is to find out the effects of mass on the oscillation of a spring scale. We will put several weights on the scale and record the oscillation time five times, after which we will take the average."
   ]
  },
  {
   "cell_type": "markdown",
   "metadata": {},
   "source": [
    "## Procedure"
   ]
  },
  {
   "cell_type": "markdown",
   "metadata": {},
   "source": [
    "$$Oscillation$$\n",
    "\n",
    "| mass (g) \t| avg. time (s)\t|\n",
    "|-----\t|---\t|\n",
    "| 50 \t| .29  \t|\n",
    "| 100 \t|   .44\t|\n",
    "| 150 \t|   .47\t|\n",
    "| 200 \t| .53   |\n",
    "| 250 \t| .61\t|\n",
    "| 300   |  .71  |"
   ]
  },
  {
   "cell_type": "code",
   "execution_count": 1,
   "metadata": {
    "collapsed": true
   },
   "outputs": [],
   "source": [
    "%matplotlib inline"
   ]
  },
  {
   "cell_type": "markdown",
   "metadata": {},
   "source": [
    "## Data Analysis"
   ]
  },
  {
   "cell_type": "code",
   "execution_count": 8,
   "metadata": {
    "collapsed": false
   },
   "outputs": [
    {
     "name": "stdout",
     "output_type": "stream",
     "text": [
      "0.00152571428745 0.24133333303\n"
     ]
    },
    {
     "data": {
      "text/plain": [
       "[<matplotlib.lines.Line2D at 0x7b7c940>]"
      ]
     },
     "execution_count": 8,
     "metadata": {},
     "output_type": "execute_result"
    },
    {
     "data": {
      "image/png": "[encoded data removed]",
      "text/plain": [
       "<matplotlib.figure.Figure at 0x7abd898>"
      ]
     },
     "metadata": {},
     "output_type": "display_data"
    }
   ],
   "source": [
    "import matplotlib.pyplot as plt\n",
    "import numpy as np\n",
    "from scipy.optimize import curve_fit\n",
    "\n",
    "mass = [ 50, 100, 150, 200, 250, 300]\n",
    "time = [ .29, .44, .47, .53, .61, .71]\n",
    "xx = np.linspace(0,400,10)\n",
    "def lin_model( x, a, b):\n",
    "    return a*x + b\n",
    "a,b = curve_fit(lin_model, mass, time)[0]\n",
    "print(a,b)\n",
    "plt.title('Oscillation Time on a Spring Scale')\n",
    "plt.ylabel ('Time (s)')\n",
    "plt.xlabel ('Mass (g)')\n",
    "plt.plot(xx, lin_model(xx, a, b))\n",
    "plt.plot(mass,time,'ro')\n",
    "\n"
   ]
  },
  {
   "cell_type": "markdown",
   "metadata": {},
   "source": [
    "## Conclusion"
   ]
  },
  {
   "cell_type": "code",
   "execution_count": null,
   "metadata": {
    "collapsed": true
   },
   "outputs": [],
   "source": []
  }
 ],
 "metadata": {
  "kernelspec": {
   "display_name": "Python 3",
   "language": "python",
   "name": "python3"
  },
  "language_info": {
   "codemirror_mode": {
    "name": "ipython",
    "version": 3
   },
   "file_extension": ".py",
   "mimetype": "text/x-python",
   "name": "python",
   "nbconvert_exporter": "python",
   "pygments_lexer": "ipython3",
   "version": "3.4.4"
  }
 },
 "nbformat": 4,
 "nbformat_minor": 0
}
